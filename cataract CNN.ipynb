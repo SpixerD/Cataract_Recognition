{
 "cells": [
  {
   "cell_type": "code",
   "execution_count": 2,
   "id": "dc9a72d4",
   "metadata": {},
   "outputs": [
    {
     "name": "stdout",
     "output_type": "stream",
     "text": [
      "Requirement already satisfied: keras in d:\\anaconda\\lib\\site-packages (2.14.0)\n",
      "Note: you may need to restart the kernel to use updated packages.\n"
     ]
    }
   ],
   "source": [
    "pip install keras "
   ]
  },
  {
   "cell_type": "markdown",
   "id": "b2c3aaea",
   "metadata": {},
   "source": [
    "# Model Development:"
   ]
  },
  {
   "cell_type": "code",
   "execution_count": 2,
   "id": "c814a0a3",
   "metadata": {},
   "outputs": [],
   "source": [
    "from tensorflow.keras.models import Sequential\n",
    "from tensorflow.keras.layers import Conv2D, MaxPooling2D, Flatten, Dense\n",
    "\n",
    "# Create the CNN model\n",
    "model = Sequential()\n",
    "\n",
    "model.add(Conv2D(32, (3, 3), input_shape=(224, 224, 3), activation='relu'))\n",
    "model.add(MaxPooling2D(pool_size=(2, 2)))\n",
    "\n",
    "model.add(Conv2D(64, (3, 3), activation='relu'))\n",
    "model.add(MaxPooling2D(pool_size=(2, 2)))\n",
    "\n",
    "model.add(Flatten())\n",
    "\n",
    "model.add(Dense(128, activation='relu'))\n",
    "model.add(Dense(1, activation='sigmoid'))  # Binary classification: cataract or non-cataract\n",
    "\n",
    "# Compile the model\n",
    "model.compile(optimizer='adam', loss='binary_crossentropy', metrics=['accuracy'])\n"
   ]
  },
  {
   "cell_type": "markdown",
   "id": "86e7757f",
   "metadata": {},
   "source": [
    "# training the model"
   ]
  },
  {
   "cell_type": "code",
   "execution_count": null,
   "id": "27b5b915",
   "metadata": {},
   "outputs": [
    {
     "name": "stdout",
     "output_type": "stream",
     "text": [
      "Found 491 images belonging to 2 classes.\n",
      "Found 121 images belonging to 2 classes.\n",
      "Epoch 1/10\n",
      "16/16 [==============================] - 63s 4s/step - loss: 1.8879 - accuracy: 0.5804 - val_loss: 0.5154 - val_accuracy: 0.8843\n",
      "Epoch 2/10\n",
      "16/16 [==============================] - 57s 4s/step - loss: 0.4760 - accuracy: 0.8126 - val_loss: 0.3503 - val_accuracy: 0.8595\n",
      "Epoch 3/10\n",
      "16/16 [==============================] - 56s 3s/step - loss: 0.3846 - accuracy: 0.8269 - val_loss: 0.3042 - val_accuracy: 0.9008\n",
      "Epoch 4/10\n",
      "16/16 [==============================] - 57s 3s/step - loss: 0.2936 - accuracy: 0.8656 - val_loss: 0.2384 - val_accuracy: 0.9174\n",
      "Epoch 5/10\n",
      "10/16 [=================>............] - ETA: 20s - loss: 0.2680 - accuracy: 0.8969"
     ]
    }
   ],
   "source": [
    "from tensorflow.keras.preprocessing.image import ImageDataGenerator\n",
    "\n",
    "train_datagen = ImageDataGenerator(rescale=1./255, shear_range=0.2, zoom_range=0.2, horizontal_flip=True)\n",
    "\n",
    "test_datagen = ImageDataGenerator(rescale=1./255)\n",
    "\n",
    "train_generator = train_datagen.flow_from_directory('C:\\\\Users\\\\moham\\\\Desktop\\\\RF\\\\processed_images\\\\train', target_size=(224, 224), batch_size=32, class_mode='binary')\n",
    "\n",
    "test_generator = test_datagen.flow_from_directory('C:\\\\Users\\\\moham\\\\Desktop\\\\RF\\\\processed_images\\\\test', target_size=(224, 224), batch_size=32, class_mode='binary')\n",
    "\n",
    "model.fit(train_generator, epochs=10, validation_data=test_generator)\n"
   ]
  },
  {
   "cell_type": "code",
   "execution_count": 1,
   "id": "a3a722b8",
   "metadata": {},
   "outputs": [
    {
     "name": "stdout",
     "output_type": "stream",
     "text": [
      "Requirement already satisfied: tk in d:\\anaconda\\lib\\site-packages (0.1.0)\n",
      "Note: you may need to restart the kernel to use updated packages.\n"
     ]
    }
   ],
   "source": [
    "pip install tk"
   ]
  },
  {
   "cell_type": "code",
   "execution_count": 10,
   "id": "c5902f01",
   "metadata": {},
   "outputs": [
    {
     "name": "stdout",
     "output_type": "stream",
     "text": [
      "1/1 [==============================] - 0s 94ms/step\n",
      "1/1 [==============================] - 0s 89ms/step\n",
      "1/1 [==============================] - 0s 87ms/step\n"
     ]
    }
   ],
   "source": [
    "import tkinter as tk\n",
    "from tkinter import filedialog\n",
    "from PIL import Image, ImageTk\n",
    "import numpy as np\n",
    "\n",
    "# Function to load and predict image\n",
    "def predict_image():\n",
    "    file_path = filedialog.askopenfilename()\n",
    "    image = Image.open(file_path)\n",
    "    image = image.resize((224, 224))\n",
    "    image = np.array(image) / 255.0  # Normalize pixel values\n",
    "    image = np.expand_dims(image, axis=0)  # Add batch dimension\n",
    "\n",
    "    prediction = model.predict(image)\n",
    "    result_label.config(text=f'Prediction: {\"Cataract\" if prediction > 0.5 else \"Non-Cataract\"}')\n",
    "\n",
    "# Create the GUI\n",
    "root = tk.Tk()\n",
    "root.title(\"Cataract Recognition\")\n",
    "\n",
    "# Interface components\n",
    "upload_button = tk.Button(root, text=\"Upload Image\", command=predict_image)\n",
    "upload_button.pack(pady=20)\n",
    "\n",
    "result_label = tk.Label(root, text=\"\")\n",
    "result_label.pack()\n",
    "\n",
    "root.mainloop()\n"
   ]
  },
  {
   "cell_type": "code",
   "execution_count": null,
   "id": "badfcf7d",
   "metadata": {},
   "outputs": [],
   "source": []
  }
 ],
 "metadata": {
  "kernelspec": {
   "display_name": "Python 3 (ipykernel)",
   "language": "python",
   "name": "python3"
  },
  "language_info": {
   "codemirror_mode": {
    "name": "ipython",
    "version": 3
   },
   "file_extension": ".py",
   "mimetype": "text/x-python",
   "name": "python",
   "nbconvert_exporter": "python",
   "pygments_lexer": "ipython3",
   "version": "3.10.9"
  }
 },
 "nbformat": 4,
 "nbformat_minor": 5
}
